{
  "cells": [
    {
      "cell_type": "markdown",
      "metadata": {
        "id": "UetK-gA-utoH"
      },
      "source": [
        "## Lab 2- Tic Tac Toe\n",
        "\n",
        "In this lab your will build a n x n Tic Tac Toe game. As you do the exercises, make sure your solutions work for any size Tic Tac Toe game."
      ]
    },
    {
      "cell_type": "markdown",
      "metadata": {
        "id": "XVuA5jLHutoK"
      },
      "source": [
        "*Exercise 1:* Write a function that creates an n by n matrix (of list of lists) which will represent the state of a Tie Tac Toe game. Let 0, 1, and 2 represent empty, \"X\", and \"O\", respectively.\n"
      ]
    },
    {
      "cell_type": "code",
      "execution_count": null,
      "metadata": {
        "collapsed": true,
        "id": "3FxCGjFdutoM"
      },
      "outputs": [],
      "source": [
        "# Write you solution here\n",
        "def create_board(n):\n",
        "    \"\"\"Creates an n x n matrix initialized with 0s to represent an empty Tic Tac Toe board.\"\"\"\n",
        "    return [[0 for _ in range(n)] for _ in range(n)]\n"
      ]
    },
    {
      "cell_type": "code",
      "execution_count": 6,
      "metadata": {
        "collapsed": true,
        "colab": {
          "base_uri": "https://localhost:8080/"
        },
        "id": "Y_ljNSUQutoO",
        "outputId": "38a77fa0-c423-463b-daea-9bfdc7604ab4"
      },
      "outputs": [
        {
          "output_type": "stream",
          "name": "stdout",
          "text": [
            "[0, 0, 0]\n",
            "[0, 0, 0]\n",
            "[0, 0, 0]\n"
          ]
        }
      ],
      "source": [
        "# Test your solution here\n",
        "\n",
        "board = create_board(3)\n",
        "for row in board:\n",
        "    print(row)"
      ]
    },
    {
      "cell_type": "markdown",
      "metadata": {
        "id": "Xpz6_YGqutoO"
      },
      "source": [
        "*Exercise 2:* Write a function that takes 2 integers `n` and `m` as input and draws a `n` by `m` game board. For example the following is a 3x3 board:\n",
        "```\n",
        "   --- --- ---\n",
        "  |   |   |   |\n",
        "   --- --- ---  \n",
        "  |   |   |   |\n",
        "   --- --- ---  \n",
        "  |   |   |   |\n",
        "   --- --- ---\n",
        "   ```"
      ]
    },
    {
      "cell_type": "code",
      "execution_count": 8,
      "metadata": {
        "collapsed": true,
        "id": "FYPeds9uutoO"
      },
      "outputs": [],
      "source": [
        "# Write you solution here\n",
        "def draw_empty_board(n, m):\n",
        "    \"\"\"Draws a n x m game board using ASCII characters.\"\"\"\n",
        "    for i in range(n):\n",
        "        print(\"   \" + \"--- \" * m)\n",
        "        print(\"  |\" + \"   |\" * m)\n",
        "    print(\"   \" + \"--- \" * m)\n"
      ]
    },
    {
      "cell_type": "code",
      "execution_count": 9,
      "metadata": {
        "collapsed": true,
        "colab": {
          "base_uri": "https://localhost:8080/"
        },
        "id": "Ms8z60TNutoP",
        "outputId": "49067cdd-e143-4581-e627-dd074cec1a7d"
      },
      "outputs": [
        {
          "output_type": "stream",
          "name": "stdout",
          "text": [
            "   --- --- --- \n",
            "  |   |   |   |\n",
            "   --- --- --- \n",
            "  |   |   |   |\n",
            "   --- --- --- \n",
            "  |   |   |   |\n",
            "   --- --- --- \n"
          ]
        }
      ],
      "source": [
        "# Test your solution here\n",
        "draw_empty_board(3, 3)"
      ]
    },
    {
      "cell_type": "markdown",
      "metadata": {
        "id": "v_IfkmWNutoP"
      },
      "source": [
        "*Exercise 3:* Modify exercise 2, so that it takes a matrix of the form from exercise 1 and draws a tic-tac-tie board with \"X\"s and \"O\"s.  "
      ]
    },
    {
      "cell_type": "code",
      "execution_count": 10,
      "metadata": {
        "collapsed": true,
        "id": "S71zBl5YutoQ"
      },
      "outputs": [],
      "source": [
        "# Write you solution here\n",
        "def draw_tic_tac_toe(board):\n",
        "    \"\"\"Draws a Tic Tac Toe board from a given n x n matrix.\"\"\"\n",
        "    symbols = {0: \" \", 1: \"X\", 2: \"O\"}\n",
        "    n = len(board)\n",
        "\n",
        "    for row in board:\n",
        "        print(\"   \" + \"--- \" * n)\n",
        "        print(\"  | \" + \" | \".join(symbols[cell] for cell in row) + \" |\")\n",
        "    print(\"   \" + \"--- \" * n)\n",
        "\n",
        "\n",
        "\n",
        "\n"
      ]
    },
    {
      "cell_type": "code",
      "execution_count": 11,
      "metadata": {
        "collapsed": true,
        "colab": {
          "base_uri": "https://localhost:8080/"
        },
        "id": "dFlmi03iutoR",
        "outputId": "10e07abc-029c-4237-8e3f-1f8e880333b3"
      },
      "outputs": [
        {
          "output_type": "stream",
          "name": "stdout",
          "text": [
            "   --- --- --- \n",
            "  | X | O |   |\n",
            "   --- --- --- \n",
            "  |   | X | O |\n",
            "   --- --- --- \n",
            "  | O |   | X |\n",
            "   --- --- --- \n"
          ]
        }
      ],
      "source": [
        "# Test your solution here\n",
        "\n",
        "sample_board = [[1, 2, 0], [0, 1, 2], [2, 0, 1]]\n",
        "draw_tic_tac_toe(sample_board)"
      ]
    },
    {
      "cell_type": "markdown",
      "metadata": {
        "id": "6EH0mF7rutoR"
      },
      "source": [
        "*Exercise 4:* Write a function that takes a `n` by `n` matrix representing a tic-tac-toe game, and returns -1, 0, 1, or 2 indicating the game is incomplete, the game is a draw, player 1 has won, or player 2 has one, respectively. Here are some example inputs you can use to test your code:"
      ]
    },
    {
      "cell_type": "code",
      "execution_count": 12,
      "metadata": {
        "collapsed": true,
        "id": "083BoVE-utoR"
      },
      "outputs": [],
      "source": [
        "# Write you solution here\n",
        "def check_winner(board):\n",
        "    \"\"\"Checks the game status and returns -1 (incomplete), 0 (draw), 1 (X wins), or 2 (O wins).\"\"\"\n",
        "    n = len(board)\n",
        "\n",
        "    # Check rows and columns\n",
        "    for i in range(n):\n",
        "        if all(board[i][0] == board[i][j] != 0 for j in range(n)):  # Row check\n",
        "            return board[i][0]\n",
        "        if all(board[0][i] == board[j][i] != 0 for j in range(n)):  # Column check\n",
        "            return board[0][i]\n",
        "\n",
        "    # Check diagonals\n",
        "    if all(board[0][0] == board[i][i] != 0 for i in range(n)):  # Main diagonal\n",
        "        return board[0][0]\n",
        "    if all(board[0][n-1] == board[i][n-1-i] != 0 for i in range(n)):  # Anti-diagonal\n",
        "        return board[0][n-1]\n",
        "\n",
        "    # Check if game is incomplete\n",
        "    if any(0 in row for row in board):\n",
        "        return -1  # Incomplete game\n",
        "\n",
        "    return 0  # Draw\n",
        "\n"
      ]
    },
    {
      "cell_type": "code",
      "execution_count": 13,
      "metadata": {
        "collapsed": true,
        "colab": {
          "base_uri": "https://localhost:8080/"
        },
        "id": "QrU7Q_UIutoS",
        "outputId": "e3788ae9-3f28-4c45-de67-7f9d87cf79a6"
      },
      "outputs": [
        {
          "output_type": "stream",
          "name": "stdout",
          "text": [
            "2\n"
          ]
        }
      ],
      "source": [
        "# Test your solution here\n",
        "\n",
        "winner_is_2 = [[2, 2, 0], [2, 1, 0], [2, 1, 1]]\n",
        "print(check_winner(winner_is_2))  # Should return 2"
      ]
    },
    {
      "cell_type": "code",
      "execution_count": null,
      "metadata": {
        "collapsed": true,
        "id": "TxhZGrcPutoS"
      },
      "outputs": [],
      "source": [
        "winner_is_2 = [[2, 2, 0],\n",
        "\t[2, 1, 0],\n",
        "\t[2, 1, 1]]\n",
        "\n",
        "winner_is_1 = [[1, 2, 0],\n",
        "\t[2, 1, 0],\n",
        "\t[2, 1, 1]]\n",
        "\n",
        "winner_is_also_1 = [[0, 1, 0],\n",
        "\t[2, 1, 0],\n",
        "\t[2, 1, 1]]\n",
        "\n",
        "no_winner = [[1, 2, 0],\n",
        "\t[2, 1, 0],\n",
        "\t[2, 1, 2]]\n",
        "\n",
        "also_no_winner = [[1, 2, 0],\n",
        "\t[2, 1, 0],\n",
        "\t[2, 1, 0]]"
      ]
    },
    {
      "cell_type": "markdown",
      "metadata": {
        "id": "K7qA-izOutoS"
      },
      "source": [
        "*Exercise 5:* Write a function that takes a game board, player number, and `(x,y)` coordinates and places \"X\" or \"O\" in the correct location of the game board. Make sure that you only allow filling previously empty locations. Return `True` or `False` to indicate successful placement of \"X\" or \"O\"."
      ]
    },
    {
      "cell_type": "code",
      "execution_count": 14,
      "metadata": {
        "collapsed": true,
        "id": "q2wbScb7utoS"
      },
      "outputs": [],
      "source": [
        "# Write you solution here\n",
        "def place_move(board, player, x, y):\n",
        "    \"\"\"Places a move for player 1 (X) or 2 (O) on the board if the cell is empty.\"\"\"\n",
        "    if board[x][y] == 0:\n",
        "        board[x][y] = player\n",
        "        return True\n",
        "    return False\n",
        "\n"
      ]
    },
    {
      "cell_type": "code",
      "execution_count": 17,
      "metadata": {
        "collapsed": true,
        "colab": {
          "base_uri": "https://localhost:8080/"
        },
        "id": "JGGBpzGHutoS",
        "outputId": "46ccb7be-851a-43cd-e2cc-7ba54a351fc0"
      },
      "outputs": [
        {
          "output_type": "stream",
          "name": "stdout",
          "text": [
            "True\n",
            "False\n"
          ]
        }
      ],
      "source": [
        "# Test your solution here\n",
        "\n",
        "board = create_board(3)\n",
        "print(place_move(board, 1, 1, 1))  # Should return True\n",
        "print(place_move(board, 2, 1, 1))  # Should return False"
      ]
    },
    {
      "cell_type": "markdown",
      "metadata": {
        "id": "wIKV2S_7utoT"
      },
      "source": [
        "*Exercise 6:* Modify Exercise 3 to show column and row labels so that players can specify location using \"A2\" or \"C1\"."
      ]
    },
    {
      "cell_type": "code",
      "execution_count": 19,
      "metadata": {
        "collapsed": true,
        "id": "K5RNeYcoutoT"
      },
      "outputs": [],
      "source": [
        "# Write you solution here\n",
        "def draw_tic_tac_toe_with_labels(board):\n",
        "    \"\"\"Draws a Tic Tac Toe board with row and column labels.\"\"\"\n",
        "    symbols = {0: \" \", 1: \"X\", 2: \"O\"}\n",
        "    n = len(board)\n",
        "\n",
        "    print(\"    \" + \"   \".join(chr(65 + i) for i in range(n)))\n",
        "    for i, row in enumerate(board):\n",
        "        print(\"   \" + \"--- \" * n)\n",
        "        print(f\"{i+1} | \" + \" | \".join(symbols[cell] for cell in row) + \" |\")\n",
        "    print(\"   \" + \"--- \" * n)\n",
        "\n",
        "\n"
      ]
    },
    {
      "cell_type": "code",
      "execution_count": 20,
      "metadata": {
        "collapsed": true,
        "colab": {
          "base_uri": "https://localhost:8080/"
        },
        "id": "gXHP78AuutoT",
        "outputId": "d57f5cab-d238-408c-a4ae-51440a55e999"
      },
      "outputs": [
        {
          "output_type": "stream",
          "name": "stdout",
          "text": [
            "    A   B   C\n",
            "   --- --- --- \n",
            "1 |   |   |   |\n",
            "   --- --- --- \n",
            "2 |   |   |   |\n",
            "   --- --- --- \n",
            "3 |   |   |   |\n",
            "   --- --- --- \n"
          ]
        }
      ],
      "source": [
        "# Test your solution here\n",
        "\n",
        "board = create_board(3)\n",
        "draw_tic_tac_toe_with_labels(board)"
      ]
    },
    {
      "cell_type": "markdown",
      "metadata": {
        "id": "mZlC52LfutoT"
      },
      "source": [
        "*Exercise 7:* Write a function that takes a board, player number, and location specified as in exercise 6 and then calls exercise 5 to correctly modify the board.  "
      ]
    },
    {
      "cell_type": "code",
      "execution_count": 21,
      "metadata": {
        "collapsed": true,
        "id": "rgo4ZTJEutoT"
      },
      "outputs": [],
      "source": [
        "# Write you solution here\n",
        "def place_move_label(board, player, move):\n",
        "    \"\"\"Places a move using labels (e.g., 'A2').\"\"\"\n",
        "    col = ord(move[0].upper()) - 65  # Convert 'A' to 0, 'B' to 1, etc.\n",
        "    row = int(move[1]) - 1  # Convert '2' to 1, '3' to 2, etc.\n",
        "    return place_move(board, player, row, col)\n",
        "\n"
      ]
    },
    {
      "cell_type": "code",
      "execution_count": 22,
      "metadata": {
        "collapsed": true,
        "colab": {
          "base_uri": "https://localhost:8080/"
        },
        "id": "cjB8YdUiutoT",
        "outputId": "53b33ed0-7a7c-4448-daaa-a611ea53ac08"
      },
      "outputs": [
        {
          "output_type": "stream",
          "name": "stdout",
          "text": [
            "True\n",
            "    A   B   C\n",
            "   --- --- --- \n",
            "1 |   |   |   |\n",
            "   --- --- --- \n",
            "2 | X |   |   |\n",
            "   --- --- --- \n",
            "3 |   |   |   |\n",
            "   --- --- --- \n"
          ]
        }
      ],
      "source": [
        "# Test your solution here\n",
        "\n",
        "print(place_move_label(board, 1, \"A2\"))  # Should return True\n",
        "draw_tic_tac_toe_with_labels(board)\n"
      ]
    },
    {
      "cell_type": "markdown",
      "metadata": {
        "id": "pM_8yc0ButoT"
      },
      "source": [
        "*Exercise 8:* Write a function is called with a board and player number, takes input from the player using python's `input`, and modifies the board using your function from exercise 7. Note that you should keep asking for input until you have gotten a valid input that results in a valid move."
      ]
    },
    {
      "cell_type": "code",
      "execution_count": 24,
      "metadata": {
        "collapsed": true,
        "id": "OPrvdGDMutoU"
      },
      "outputs": [],
      "source": [
        "# Write you solution here\n",
        "def player_move(board, player):\n",
        "    \"\"\"Prompts the player for input until a valid move is made.\"\"\"\n",
        "    while True:\n",
        "        move = input(f\"Player {player} (X/O), enter your move (e.g., A2): \").strip().upper()\n",
        "        if len(move) == 2 and move[0] in \"ABCDEFGHIJKLMNOPQRSTUVWXYZ\" and move[1].isdigit():\n",
        "            if place_move_label(board, player, move):\n",
        "                break\n",
        "            else:\n",
        "                print(\"Invalid move. Try again.\")\n",
        "        else:\n",
        "            print(\"Invalid input format. Try again.\")\n",
        "\n",
        "\n",
        "\n"
      ]
    },
    {
      "cell_type": "code",
      "execution_count": 25,
      "metadata": {
        "collapsed": true,
        "colab": {
          "base_uri": "https://localhost:8080/"
        },
        "id": "Wi6SNpYJutoU",
        "outputId": "787f105e-9e13-4adc-9e28-1668fd2df5d4"
      },
      "outputs": [
        {
          "name": "stdout",
          "output_type": "stream",
          "text": [
            "Player 1 (X/O), enter your move (e.g., A2): a2\n",
            "Invalid move. Try again.\n",
            "Player 1 (X/O), enter your move (e.g., A2): A3\n"
          ]
        }
      ],
      "source": [
        "# Test your solution here\n",
        "player_move(board, 1)  #"
      ]
    },
    {
      "cell_type": "markdown",
      "metadata": {
        "id": "-VACtdYOutoU"
      },
      "source": [
        "*Exercise 9:* Use all of the previous exercises to implement a full tic-tac-toe game, where an appropriate board is drawn, 2 players are repeatedly asked for a location coordinates of where they wish to place a mark, and the game status is checked until a player wins or a draw occurs."
      ]
    },
    {
      "cell_type": "code",
      "execution_count": 26,
      "metadata": {
        "collapsed": true,
        "id": "994Ki4hUutoU"
      },
      "outputs": [],
      "source": [
        "# Write you solution here\n",
        "def play_tic_tac_toe(n):\n",
        "    \"\"\"Runs a full Tic Tac Toe game.\"\"\"\n",
        "    board = create_board(n)\n",
        "    players = [1, 2]\n",
        "\n",
        "    while True:\n",
        "        draw_tic_tac_toe_with_labels(board)\n",
        "        for player in players:\n",
        "            player_move(board, player)\n",
        "            if (status := check_winner(board)) in [0, 1, 2]:\n",
        "                draw_tic_tac_toe_with_labels(board)\n",
        "                print(\"Game Over!\")\n",
        "                print(\"Draw!\" if status == 0 else f\"Player {status} wins!\")\n",
        "                return\n",
        "\n"
      ]
    },
    {
      "cell_type": "code",
      "execution_count": 33,
      "metadata": {
        "collapsed": true,
        "colab": {
          "base_uri": "https://localhost:8080/"
        },
        "id": "0LzSRFKJutoU",
        "outputId": "d2aa94e7-cd3a-4a21-b204-c2aa6bfae68a"
      },
      "outputs": [
        {
          "output_type": "stream",
          "name": "stdout",
          "text": [
            "    A   B   C\n",
            "   --- --- --- \n",
            "1 |   |   |   |\n",
            "   --- --- --- \n",
            "2 |   |   |   |\n",
            "   --- --- --- \n",
            "3 |   |   |   |\n",
            "   --- --- --- \n",
            "Player 1 (X/O), enter your move (e.g., A2): B2\n",
            "Player 2 (X/O), enter your move (e.g., A2): C3\n",
            "    A   B   C\n",
            "   --- --- --- \n",
            "1 |   |   |   |\n",
            "   --- --- --- \n",
            "2 |   | X |   |\n",
            "   --- --- --- \n",
            "3 |   |   | O |\n",
            "   --- --- --- \n",
            "Player 1 (X/O), enter your move (e.g., A2): C1\n",
            "Player 2 (X/O), enter your move (e.g., A2): C2\n",
            "    A   B   C\n",
            "   --- --- --- \n",
            "1 |   |   | X |\n",
            "   --- --- --- \n",
            "2 |   | X | O |\n",
            "   --- --- --- \n",
            "3 |   |   | O |\n",
            "   --- --- --- \n",
            "Player 1 (X/O), enter your move (e.g., A2): A3\n",
            "    A   B   C\n",
            "   --- --- --- \n",
            "1 |   |   | X |\n",
            "   --- --- --- \n",
            "2 |   | X | O |\n",
            "   --- --- --- \n",
            "3 | X |   | O |\n",
            "   --- --- --- \n",
            "Game Over!\n",
            "Player 1 wins!\n"
          ]
        }
      ],
      "source": [
        "# Test your solution here\n",
        "\n",
        "# Uncomment to test\n",
        "play_tic_tac_toe(3)\n"
      ]
    },
    {
      "cell_type": "markdown",
      "metadata": {
        "id": "SMv5gDCAutoU"
      },
      "source": [
        "*Exercise 10:* Test that your game works for 5x5 Tic Tac Toe.  "
      ]
    },
    {
      "cell_type": "code",
      "execution_count": 32,
      "metadata": {
        "collapsed": true,
        "colab": {
          "base_uri": "https://localhost:8080/"
        },
        "id": "axeASkhcutoU",
        "outputId": "210d2984-8579-4815-89c6-9693cd691ff9"
      },
      "outputs": [
        {
          "output_type": "stream",
          "name": "stdout",
          "text": [
            "    A   B   C   D   E\n",
            "   --- --- --- --- --- \n",
            "1 |   |   |   |   |   |\n",
            "   --- --- --- --- --- \n",
            "2 |   |   |   |   |   |\n",
            "   --- --- --- --- --- \n",
            "3 |   |   |   |   |   |\n",
            "   --- --- --- --- --- \n",
            "4 |   |   |   |   |   |\n",
            "   --- --- --- --- --- \n",
            "5 |   |   |   |   |   |\n",
            "   --- --- --- --- --- \n",
            "Player 1 (X/O), enter your move (e.g., A2): A2\n",
            "Player 2 (X/O), enter your move (e.g., A2): A1\n",
            "    A   B   C   D   E\n",
            "   --- --- --- --- --- \n",
            "1 | O |   |   |   |   |\n",
            "   --- --- --- --- --- \n",
            "2 | X |   |   |   |   |\n",
            "   --- --- --- --- --- \n",
            "3 |   |   |   |   |   |\n",
            "   --- --- --- --- --- \n",
            "4 |   |   |   |   |   |\n",
            "   --- --- --- --- --- \n",
            "5 |   |   |   |   |   |\n",
            "   --- --- --- --- --- \n",
            "Player 1 (X/O), enter your move (e.g., A2): B1\n",
            "Player 2 (X/O), enter your move (e.g., A2): B2\n",
            "    A   B   C   D   E\n",
            "   --- --- --- --- --- \n",
            "1 | O | X |   |   |   |\n",
            "   --- --- --- --- --- \n",
            "2 | X | O |   |   |   |\n",
            "   --- --- --- --- --- \n",
            "3 |   |   |   |   |   |\n",
            "   --- --- --- --- --- \n",
            "4 |   |   |   |   |   |\n",
            "   --- --- --- --- --- \n",
            "5 |   |   |   |   |   |\n",
            "   --- --- --- --- --- \n",
            "Player 1 (X/O), enter your move (e.g., A2): A3\n",
            "Player 2 (X/O), enter your move (e.g., A2): C1\n",
            "    A   B   C   D   E\n",
            "   --- --- --- --- --- \n",
            "1 | O | X | O |   |   |\n",
            "   --- --- --- --- --- \n",
            "2 | X | O |   |   |   |\n",
            "   --- --- --- --- --- \n",
            "3 | X |   |   |   |   |\n",
            "   --- --- --- --- --- \n",
            "4 |   |   |   |   |   |\n",
            "   --- --- --- --- --- \n",
            "5 |   |   |   |   |   |\n",
            "   --- --- --- --- --- \n",
            "Player 1 (X/O), enter your move (e.g., A2): C2\n",
            "Player 2 (X/O), enter your move (e.g., A2): D1\n",
            "    A   B   C   D   E\n",
            "   --- --- --- --- --- \n",
            "1 | O | X | O | O |   |\n",
            "   --- --- --- --- --- \n",
            "2 | X | O | X |   |   |\n",
            "   --- --- --- --- --- \n",
            "3 | X |   |   |   |   |\n",
            "   --- --- --- --- --- \n",
            "4 |   |   |   |   |   |\n",
            "   --- --- --- --- --- \n",
            "5 |   |   |   |   |   |\n",
            "   --- --- --- --- --- \n",
            "Player 1 (X/O), enter your move (e.g., A2): D2\n",
            "Player 2 (X/O), enter your move (e.g., A2): E1\n",
            "    A   B   C   D   E\n",
            "   --- --- --- --- --- \n",
            "1 | O | X | O | O | O |\n",
            "   --- --- --- --- --- \n",
            "2 | X | O | X | X |   |\n",
            "   --- --- --- --- --- \n",
            "3 | X |   |   |   |   |\n",
            "   --- --- --- --- --- \n",
            "4 |   |   |   |   |   |\n",
            "   --- --- --- --- --- \n",
            "5 |   |   |   |   |   |\n",
            "   --- --- --- --- --- \n",
            "Player 1 (X/O), enter your move (e.g., A2): E2\n",
            "Player 2 (X/O), enter your move (e.g., A2): E3\n",
            "    A   B   C   D   E\n",
            "   --- --- --- --- --- \n",
            "1 | O | X | O | O | O |\n",
            "   --- --- --- --- --- \n",
            "2 | X | O | X | X | X |\n",
            "   --- --- --- --- --- \n",
            "3 | X |   |   |   | O |\n",
            "   --- --- --- --- --- \n",
            "4 |   |   |   |   |   |\n",
            "   --- --- --- --- --- \n",
            "5 |   |   |   |   |   |\n",
            "   --- --- --- --- --- \n",
            "Player 1 (X/O), enter your move (e.g., A2): A4\n",
            "Player 2 (X/O), enter your move (e.g., A2): B4\n",
            "    A   B   C   D   E\n",
            "   --- --- --- --- --- \n",
            "1 | O | X | O | O | O |\n",
            "   --- --- --- --- --- \n",
            "2 | X | O | X | X | X |\n",
            "   --- --- --- --- --- \n",
            "3 | X |   |   |   | O |\n",
            "   --- --- --- --- --- \n",
            "4 | X | O |   |   |   |\n",
            "   --- --- --- --- --- \n",
            "5 |   |   |   |   |   |\n",
            "   --- --- --- --- --- \n",
            "Player 1 (X/O), enter your move (e.g., A2): A5\n",
            "Player 2 (X/O), enter your move (e.g., A2): B5\n",
            "    A   B   C   D   E\n",
            "   --- --- --- --- --- \n",
            "1 | O | X | O | O | O |\n",
            "   --- --- --- --- --- \n",
            "2 | X | O | X | X | X |\n",
            "   --- --- --- --- --- \n",
            "3 | X |   |   |   | O |\n",
            "   --- --- --- --- --- \n",
            "4 | X | O |   |   |   |\n",
            "   --- --- --- --- --- \n",
            "5 | X | O |   |   |   |\n",
            "   --- --- --- --- --- \n",
            "Player 1 (X/O), enter your move (e.g., A2): B3\n",
            "Player 2 (X/O), enter your move (e.g., A2): C3\n",
            "    A   B   C   D   E\n",
            "   --- --- --- --- --- \n",
            "1 | O | X | O | O | O |\n",
            "   --- --- --- --- --- \n",
            "2 | X | O | X | X | X |\n",
            "   --- --- --- --- --- \n",
            "3 | X | X | O |   | O |\n",
            "   --- --- --- --- --- \n",
            "4 | X | O |   |   |   |\n",
            "   --- --- --- --- --- \n",
            "5 | X | O |   |   |   |\n",
            "   --- --- --- --- --- \n",
            "Player 1 (X/O), enter your move (e.g., A2): D3\n",
            "Player 2 (X/O), enter your move (e.g., A2): E4\n",
            "    A   B   C   D   E\n",
            "   --- --- --- --- --- \n",
            "1 | O | X | O | O | O |\n",
            "   --- --- --- --- --- \n",
            "2 | X | O | X | X | X |\n",
            "   --- --- --- --- --- \n",
            "3 | X | X | O | X | O |\n",
            "   --- --- --- --- --- \n",
            "4 | X | O |   |   | O |\n",
            "   --- --- --- --- --- \n",
            "5 | X | O |   |   |   |\n",
            "   --- --- --- --- --- \n",
            "Player 1 (X/O), enter your move (e.g., A2): E5\n",
            "Player 2 (X/O), enter your move (e.g., A2): D4\n",
            "    A   B   C   D   E\n",
            "   --- --- --- --- --- \n",
            "1 | O | X | O | O | O |\n",
            "   --- --- --- --- --- \n",
            "2 | X | O | X | X | X |\n",
            "   --- --- --- --- --- \n",
            "3 | X | X | O | X | O |\n",
            "   --- --- --- --- --- \n",
            "4 | X | O |   | O | O |\n",
            "   --- --- --- --- --- \n",
            "5 | X | O |   |   | X |\n",
            "   --- --- --- --- --- \n",
            "Player 1 (X/O), enter your move (e.g., A2): D5\n",
            "Player 2 (X/O), enter your move (e.g., A2): C4\n",
            "    A   B   C   D   E\n",
            "   --- --- --- --- --- \n",
            "1 | O | X | O | O | O |\n",
            "   --- --- --- --- --- \n",
            "2 | X | O | X | X | X |\n",
            "   --- --- --- --- --- \n",
            "3 | X | X | O | X | O |\n",
            "   --- --- --- --- --- \n",
            "4 | X | O | O | O | O |\n",
            "   --- --- --- --- --- \n",
            "5 | X | O |   | X | X |\n",
            "   --- --- --- --- --- \n",
            "Player 1 (X/O), enter your move (e.g., A2): C5\n",
            "    A   B   C   D   E\n",
            "   --- --- --- --- --- \n",
            "1 | O | X | O | O | O |\n",
            "   --- --- --- --- --- \n",
            "2 | X | O | X | X | X |\n",
            "   --- --- --- --- --- \n",
            "3 | X | X | O | X | O |\n",
            "   --- --- --- --- --- \n",
            "4 | X | O | O | O | O |\n",
            "   --- --- --- --- --- \n",
            "5 | X | O | X | X | X |\n",
            "   --- --- --- --- --- \n",
            "Game Over!\n",
            "Draw!\n"
          ]
        }
      ],
      "source": [
        "# Test your solution here\n",
        "# Uncomment to test\n",
        "play_tic_tac_toe(5)\n"
      ]
    },
    {
      "cell_type": "markdown",
      "metadata": {
        "id": "RrRSrINXutoU"
      },
      "source": [
        "*Exercise 11:* (Advanced / Challenge) Develop a version of the game where one player is the computer. Note that you don't need to do an extensive seach for the best move. You can have the computer simply protect against loosing and otherwise try to win with straight or diagonal patterns."
      ]
    },
    {
      "cell_type": "code",
      "execution_count": 29,
      "metadata": {
        "collapsed": true,
        "id": "-ciWi7GwutoV"
      },
      "outputs": [],
      "source": [
        "# Write you solution here\n",
        "import random\n",
        "\n",
        "def computer_move(board, player):\n",
        "    \"\"\"Basic AI: Tries to win or block losing moves, otherwise plays randomly.\"\"\"\n",
        "    n = len(board)\n",
        "\n",
        "    # Try to win or block opponent\n",
        "    for i in range(n):\n",
        "        for j in range(n):\n",
        "            if board[i][j] == 0:\n",
        "                board[i][j] = player\n",
        "                if check_winner(board) == player:\n",
        "                    return\n",
        "                board[i][j] = 0  # Undo move\n",
        "\n",
        "    # Play random move\n",
        "    empty_cells = [(i, j) for i in range(n) for j in range(n) if board[i][j] == 0]\n",
        "    if empty_cells:\n",
        "        x, y = random.choice(empty_cells)\n",
        "        board[x][y] = player\n",
        "\n"
      ]
    },
    {
      "cell_type": "code",
      "execution_count": 30,
      "metadata": {
        "collapsed": true,
        "colab": {
          "base_uri": "https://localhost:8080/"
        },
        "id": "yv_baHHautoV",
        "outputId": "432acc8b-dd53-49ae-de57-45cc9e6ea7d2"
      },
      "outputs": [
        {
          "output_type": "stream",
          "name": "stdout",
          "text": [
            "    A   B   C\n",
            "   --- --- --- \n",
            "1 |   |   |   |\n",
            "   --- --- --- \n",
            "2 |   |   |   |\n",
            "   --- --- --- \n",
            "3 |   | O |   |\n",
            "   --- --- --- \n"
          ]
        }
      ],
      "source": [
        "# Test your solution here\n",
        "\n",
        "board = create_board(3)\n",
        "computer_move(board, 2)\n",
        "draw_tic_tac_toe_with_labels(board)"
      ]
    }
  ],
  "metadata": {
    "kernelspec": {
      "display_name": "Python 3 (ipykernel)",
      "language": "python",
      "name": "python3"
    },
    "language_info": {
      "codemirror_mode": {
        "name": "ipython",
        "version": 3
      },
      "file_extension": ".py",
      "mimetype": "text/x-python",
      "name": "python",
      "nbconvert_exporter": "python",
      "pygments_lexer": "ipython3",
      "version": "3.9.6"
    },
    "colab": {
      "provenance": []
    }
  },
  "nbformat": 4,
  "nbformat_minor": 0
}